{
 "cells": [
  {
   "attachments": {},
   "cell_type": "markdown",
   "metadata": {},
   "source": [
    "## Презентация ответа на задание :\n",
    "\n",
    "*В качестве ответа на задания прилагаю два варианта решения с разной \"мощностью\" алгоритма, постарался оформить по феншую на столько, на сколько на текущий момент могу.*\n",
    "\n",
    "**Благодарю за внимание!**"
   ]
  },
  {
   "cell_type": "markdown",
   "metadata": {},
   "source": []
  },
  {
   "attachments": {},
   "cell_type": "markdown",
   "metadata": {},
   "source": [
    "### Вариант номер 1.\n",
    "\n",
    "В нём я решил использовать способ, при котором, я при каждой итерации, подменял границы диапазона случайных чисел на результат очередной итерации, в зависимости от того, больше оно искомого числа или меньше. Получился алгоритм с мощностью в 7 итераций.\n",
    "Результат вызова через импорт функции из файла с кодом находится ниже. Ссылку на код прилагаю: [github](https://github.com/TonyTonyGW/counter/blob/main/For_task_guess_the_number/guess_the_number_ver2.py)"
   ]
  },
  {
   "cell_type": "code",
   "execution_count": 2,
   "metadata": {},
   "outputs": [
    {
     "name": "stdout",
     "output_type": "stream",
     "text": [
      "7\n"
     ]
    }
   ],
   "source": [
    "from guess_the_number_ver2 import guess_the_number, midle_guess_the_number\n",
    "\n",
    "print(midle_guess_the_number(guess_the_number))"
   ]
  },
  {
   "attachments": {},
   "cell_type": "markdown",
   "metadata": {},
   "source": [
    "### Вариант номер 1.\n",
    "\n",
    "В нём я решил использовать способ, при котором, я в начале каждой итерации, подменял границы диапазона случайных чисел на серединное значение между нижней и верхней границ диапазона случайных чисел(изначально задан диапазон от 1 до 100), в зависимости от того, больше оно искомого числа или меньше. Получился алгоритм с мощностью в 6 итераций.\n",
    "Результат вызова через импорт функции из файла с кодом находится ниже. Ссылку на код прилагаю: [github](https://github.com/TonyTonyGW/counter/blob/main/For_task_guess_the_number/guess_the_number_ver3.py)"
   ]
  },
  {
   "cell_type": "markdown",
   "metadata": {},
   "source": []
  }
 ],
 "metadata": {
  "kernelspec": {
   "display_name": "Python 3",
   "language": "python",
   "name": "python3"
  },
  "language_info": {
   "codemirror_mode": {
    "name": "ipython",
    "version": 3
   },
   "file_extension": ".py",
   "mimetype": "text/x-python",
   "name": "python",
   "nbconvert_exporter": "python",
   "pygments_lexer": "ipython3",
   "version": "3.9.13"
  },
  "orig_nbformat": 4,
  "vscode": {
   "interpreter": {
    "hash": "3e13df3a8547c5852783334f7d5726168d2d3b1a8be6ee20b879430a7eed34d8"
   }
  }
 },
 "nbformat": 4,
 "nbformat_minor": 2
}
