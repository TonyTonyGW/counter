{
 "cells": [
  {
   "cell_type": "code",
   "execution_count": 7,
   "metadata": {},
   "outputs": [
    {
     "name": "stdout",
     "output_type": "stream",
     "text": [
      "Колл-во попыток для поиска заданного числа равна: 68\n"
     ]
    },
    {
     "data": {
      "text/plain": [
       "68"
      ]
     },
     "execution_count": 7,
     "metadata": {},
     "output_type": "execute_result"
    }
   ],
   "source": [
    "import numpy as np\n",
    "\n",
    "def counter(num:int=1) -> int:\n",
    "    \"\"\"Возвращает число попыток, которые требуются для угадывания заданного в параметре 'num' числа.\n",
    "    \n",
    "    Args:\n",
    "        num (int, optional): _description_. Defaults to 1.\n",
    "\n",
    "    Returns:\n",
    "        int: _description_\n",
    "    \"\"\"\n",
    "    if num >= 1 and num <= 100:\n",
    "        count = 0\n",
    "        while True:\n",
    "            count += 1\n",
    "            tryig_num = np.random.randint(1,101)\n",
    "            if tryig_num == num:\n",
    "                print(f'Колл-во попыток для поиска заданного числа равна: {count}')\n",
    "                return count\n",
    "    else:\n",
    "        raise ValueError('Допустипый диапазон значение от 1 до 100')\n",
    "counter(98)"
   ]
  },
  {
   "attachments": {},
   "cell_type": "markdown",
   "metadata": {},
   "source": [
    "Выше указан код функции по подсчёту попыток для нахождения."
   ]
  }
 ],
 "metadata": {
  "kernelspec": {
   "display_name": "Python 3",
   "language": "python",
   "name": "python3"
  },
  "language_info": {
   "codemirror_mode": {
    "name": "ipython",
    "version": 3
   },
   "file_extension": ".py",
   "mimetype": "text/x-python",
   "name": "python",
   "nbconvert_exporter": "python",
   "pygments_lexer": "ipython3",
   "version": "3.9.13"
  },
  "orig_nbformat": 4,
  "vscode": {
   "interpreter": {
    "hash": "3e13df3a8547c5852783334f7d5726168d2d3b1a8be6ee20b879430a7eed34d8"
   }
  }
 },
 "nbformat": 4,
 "nbformat_minor": 2
}
